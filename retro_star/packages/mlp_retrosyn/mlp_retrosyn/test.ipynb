{
 "cells": [
  {
   "cell_type": "markdown",
   "metadata": {},
   "source": [
    "# MLPModel模型"
   ]
  },
  {
   "cell_type": "code",
   "execution_count": 1,
   "metadata": {},
   "outputs": [],
   "source": [
    "import numpy as np\n",
    "from mlp_retrosyn.mlp_policies import load_parallel_model , preprocess\n",
    "from rdkit import Chem, DataStructs\n",
    "from rdkit.Chem import AllChem\n",
    "import torch\n",
    "import torch.nn.functional as F\n",
    "import os"
   ]
  },
  {
   "cell_type": "code",
   "execution_count": 2,
   "metadata": {},
   "outputs": [],
   "source": [
    "def preprocess(X,fp_dim):   #计算分子指纹,只能计算smiles，反应规则smarts不行\n",
    "    mol = Chem.MolFromSmiles(X)\n",
    "    fp = AllChem.GetMorganFingerprintAsBitVect(mol, 2, nBits=int(fp_dim),useChirality=True)\n",
    "    onbits = list(fp.GetOnBits())\n",
    "    arr = np.zeros(fp.GetNumBits())\n",
    "    arr[onbits] = 1\n",
    "    # arr = (arr - arr.mean())/(arr.std() + 0.000001)\n",
    "    # arr = arr / fp_dim\n",
    "    # X = fps_to_arr(X)\n",
    "    return arr"
   ]
  },
  {
   "cell_type": "code",
   "execution_count": 3,
   "metadata": {},
   "outputs": [
    {
     "name": "stdout",
     "output_type": "stream",
     "text": [
      "[0. 0. 0. ... 0. 0. 0.] \n",
      " (2048,)\n",
      "[[0. 0. 0. ... 0. 0. 0.]] \n",
      " (1, 2048)\n",
      "tensor([[0., 0., 0.,  ..., 0., 0., 0.]]) \n",
      " torch.Size([1, 2048])\n"
     ]
    }
   ],
   "source": [
    "fp_dim=2048\n",
    "#x='OCC(=O)OCCCO'\n",
    "#x='O=C1C2([H])C=C(CO)[C@@H](O)[C@]3(O)[C@@H](O)C(C)=C[C@@]31[C@H](C)C[C@]4([H])[C@@]2([H])C4(C)C'   #复杂的天然产物\n",
    "#x='C/C1=C/CC[C@H](C)C(O[C@H]1CC2=C(C)COC2=O)=O' #中等难度\n",
    "#x='O=C1C=CC2=C(CC[C@H](CC)[C@@H]2O)O1'           #简单难度\n",
    "x='[CH3:1][C:2]([CH3:3])([CH3:4])[O:5][C:6](=[O:7])[n:15]1[c:14]2[cH:13][cH:12][c:11]([C:9]([CH3:8])=[O:10])[cH:19][c:18]2[cH:17][cH:16]1'\n",
    "arr = preprocess(x, fp_dim)    #计算分子指纹\n",
    "print(arr,'\\n',arr.shape)\n",
    "arr = np.reshape(arr,[-1, arr.shape[0]])    #arr.shape[0]=2048\n",
    "print(arr,'\\n',arr.shape)\n",
    "arr = torch.tensor(arr, dtype=torch.float32)\n",
    "print(arr,'\\n',arr.shape)\n"
   ]
  },
  {
   "cell_type": "code",
   "execution_count": 4,
   "metadata": {},
   "outputs": [
    {
     "name": "stderr",
     "output_type": "stream",
     "text": [
      "template rules: 381302it [00:00, 1907248.47it/s]\n"
     ]
    }
   ],
   "source": [
    "#dirpath = os.path.dirname(os.path.abspath(__file__))        #定位到当前目录下,不可以直接在命令行运行该文件， 否则会报错 “NameError: name '__file__' is not defined”\n",
    "dirpath = '/home/Flow/Learning/CASI/retro_star/retro_star'\n",
    "state_path=dirpath+'/one_step_model/saved_rollout_state_1_2048.ckpt'\n",
    "template_path=dirpath+'/one_step_model/template_rules_1.dat'\n",
    "net, idx2rules = load_parallel_model(state_path,template_path, fp_dim)"
   ]
  },
  {
   "cell_type": "code",
   "execution_count": 5,
   "metadata": {},
   "outputs": [
    {
     "name": "stdout",
     "output_type": "stream",
     "text": [
      "tensor([[ 1.6429,  2.0104,  4.4761,  ..., -6.3988, -6.0725, -6.0204]],\n",
      "       grad_fn=<AddmmBackward0>)\n",
      "torch.Size([1, 381302])\n",
      "tensor([[5.4017e-09, 7.8008e-09, 9.1836e-08,  ..., 1.7381e-12, 2.4087e-12,\n",
      "         2.5375e-12]], grad_fn=<SoftmaxBackward0>)\n",
      "torch.Size([1, 381302])\n",
      "tensor(0.9999, grad_fn=<AddBackward0>)\n"
     ]
    }
   ],
   "source": [
    "net.eval()\n",
    "preds = net(arr)               #通过神经网络的预测\n",
    "print(preds)\n",
    "print(preds.shape)\n",
    "preds = F.softmax(preds,dim=1)      #按行进行softmax函数\n",
    "print(preds)\n",
    "print(preds.shape)\n",
    "print(sum(preds[0]))"
   ]
  },
  {
   "cell_type": "code",
   "execution_count": 6,
   "metadata": {},
   "outputs": [
    {
     "name": "stdout",
     "output_type": "stream",
     "text": [
      "tensor([[9.9309e-01, 1.1610e-03, 8.7165e-04, 7.3233e-04, 6.6345e-04, 4.9619e-04,\n",
      "         4.3581e-04, 3.3747e-04, 1.9059e-04, 1.8568e-04]],\n",
      "       grad_fn=<TopkBackward0>) \n",
      " tensor([[ 39176, 102524,   1353,  79148, 132444,   6903,  79830,   1360, 106913,\n",
      "         153577]])\n",
      "tensor(0.9982, grad_fn=<AddBackward0>)\n"
     ]
    }
   ],
   "source": [
    "probs, idx = torch.topk(preds,k=10)   #preds中前k=10大的预测\n",
    "print(probs,'\\n',idx)\n",
    "print(sum(probs[0]))"
   ]
  },
  {
   "cell_type": "code",
   "execution_count": 7,
   "metadata": {},
   "outputs": [
    {
     "name": "stdout",
     "output_type": "stream",
     "text": [
      "10\n",
      "第 1 条规则: ([C;D1;H3:1]-[C:2](-[C;D1;H3:3])(-[C;D1;H3:4])-[#8:5]-[C;H0;D3;+0:6](=[O;D1;H0:7])-[n;H0;D3;+0:9](:[c:8]):[c:10])>>[C;D1;H3:1]-[C:2](-[C;D1;H3:3])(-[C;D1;H3:4])-[#8:5]-[C;H0;D3;+0:6](=[O;D1;H0:7])-O-[C;H0;D3;+0:6](=[O;D1;H0:7])-[#8:5]-[C:2](-[C;D1;H3:1])(-[C;D1;H3:3])-[C;D1;H3:4].[c:8]:[nH;D2;+0:9]:[c:10]\n",
      "第 2 条规则: ([CH3;D1;+0:1]-[C;H0;D3;+0:2](=[O;D1;H0:3])-[c:4])>>Br-[Mg]-[CH3;D1;+0:1].C-O-N(-C)-[C;H0;D3;+0:2](=[O;D1;H0:3])-[c:4]\n",
      "第 3 条规则: ([C;D1;H3:1]-[C;H0;D3;+0:2](=[O;H0;D1;+0:3])-[c:4])>>[C;D1;H3:1]-[CH;D3;+0:2](-[OH;D1;+0:3])-[c:4]\n",
      "第 4 条规则: ([C;D1;H3:6]-[C;H0;D3;+0:5](=[O;H0;D1;+0:4])-[c;H0;D3;+0:1](:[c:2]):[c:3])>>Br-[c;H0;D3;+0:1](:[c:2]):[c:3].C-C-C-C-[Sn](-C-C-C-C)(-C-C-C-C)-C(=C)-[O;H0;D2;+0:4]-[CH2;D2;+0:5]-[C;D1;H3:6]\n",
      "第 5 条规则: ([C;D1;H3:5]-[C:4](-[C;D1;H3:6])(-[C;D1;H3:7])-[#8:3]-[C;H0;D3;+0:2](=[O;H0;D1;+0:1])-[n;H0;D3;+0:9](:[c:8]):[c:10])>>C-C(-C)(-C)-O-C(=O)-[O;H0;D2;+0:1]-[C;H0;D3;+0:2](=O)-[#8:3]-[C:4](-[C;D1;H3:5])(-[C;D1;H3:6])-[C;D1;H3:7].[c:8]:[nH;D2;+0:9]:[c:10]\n",
      "第 6 条规则: ([C;D1;H3:1]-[C;H0;D3;+0:2](=[O;H0;D1;+0:4])-[c:3])>>[C;D1;H3:1]-[C;H0;D4;+0:2]1(-[c:3])-O-C-C-[O;H0;D2;+0:4]-1\n",
      "第 7 条规则: ([C;D1;H3:5]-[C:4](-[C;D1;H3:6])(-[C;D1;H3:7])-[#8:3]-[C;H0;D3;+0:2](=[O;H0;D1;+0:1])-[n;H0;D3;+0:9](:[c:8]):[c:10])>>C-C(-C)(-C)-[O;H0;D2;+0:1]-[C;H0;D3;+0:2](=O)-[#8:3]-[C:4](-[C;D1;H3:5])(-[C;D1;H3:6])-[C;D1;H3:7].[c:8]:[nH;D2;+0:9]:[c:10]\n",
      "第 8 条规则: ([C;D1;H3:2]-[C;H0;D3;+0:1](=[O;D1;H0:3])-[c;H0;D3;+0:5](:[c:4]):[c:6])>>C-C(=O)-O-[C;H0;D3;+0:1](-[C;D1;H3:2])=[O;D1;H0:3].[c:4]:[cH;D2;+0:5]:[c:6]\n",
      "第 9 条规则: ([C;D1;H3:5]-[C;H0;D3;+0:4](=[O;D1;H0:6])-[c;H0;D3;+0:1](:[c:2]):[c:3])>>Br-[c;H0;D3;+0:1](:[c:2]):[c:3].C-O-N(-C)-[C;H0;D3;+0:4](-[C;D1;H3:5])=[O;D1;H0:6]\n",
      "第 10 条规则: ([CH3;D1;+0:4]-[C;H0;D3;+0:1](=[O;D1;H0:2])-[c:3])>>C-O-N(-C)-[C;H0;D3;+0:1](=[O;D1;H0:2])-[c:3].Cl-[Mg]-[CH3;D1;+0:4]\n"
     ]
    }
   ],
   "source": [
    "rule_k = [idx2rules[id] for id in idx[0].numpy().tolist()] #预测出的前k个最有可能反应的规则\n",
    "print(len(rule_k))\n",
    "n=1\n",
    "for i in rule_k:\n",
    "    print('第',n,'条规则:',i)\n",
    "    n=n+1"
   ]
  },
  {
   "cell_type": "code",
   "execution_count": 8,
   "metadata": {},
   "outputs": [
    {
     "name": "stdout",
     "output_type": "stream",
     "text": [
      "第 1 条规则:\n",
      " ([C;D1;H3:1]-[C:2](-[C;D1;H3:3])(-[C;D1;H3:4])-[#8:5]-[C;H0;D3;+0:6](=[O;D1;H0:7])-[n;H0;D3;+0:9](:[c:8]):[c:10])>>[C;D1;H3:1]-[C:2](-[C;D1;H3:3])(-[C;D1;H3:4])-[#8:5]-[C;H0;D3;+0:6](=[O;D1;H0:7])-O-[C;H0;D3;+0:6](=[O;D1;H0:7])-[#8:5]-[C:2](-[C;D1;H3:1])(-[C;D1;H3:3])-[C;D1;H3:4].[c:8]:[nH;D2;+0:9]:[c:10]\n",
      "第 1 条规则下可能生成的结果：\n",
      " ['CC(=O)c1ccc2[nH]ccc2c1.CC(C)(C)OC(=O)OC(=O)OC(C)(C)C'] \n",
      "\n",
      "第 2 条规则:\n",
      " ([CH3;D1;+0:1]-[C;H0;D3;+0:2](=[O;D1;H0:3])-[c:4])>>Br-[Mg]-[CH3;D1;+0:1].C-O-N(-C)-[C;H0;D3;+0:2](=[O;D1;H0:3])-[c:4]\n",
      "第 2 条规则下可能生成的结果：\n",
      " ['CON(C)C(=O)c1ccc2c(ccn2C(=O)OC(C)(C)C)c1.C[Mg]Br'] \n",
      "\n",
      "第 3 条规则:\n",
      " ([C;D1;H3:1]-[C;H0;D3;+0:2](=[O;H0;D1;+0:3])-[c:4])>>[C;D1;H3:1]-[CH;D3;+0:2](-[OH;D1;+0:3])-[c:4]\n",
      "第 3 条规则下可能生成的结果：\n",
      " ['CC(O)c1ccc2c(ccn2C(=O)OC(C)(C)C)c1'] \n",
      "\n",
      "第 4 条规则:\n",
      " ([C;D1;H3:6]-[C;H0;D3;+0:5](=[O;H0;D1;+0:4])-[c;H0;D3;+0:1](:[c:2]):[c:3])>>Br-[c;H0;D3;+0:1](:[c:2]):[c:3].C-C-C-C-[Sn](-C-C-C-C)(-C-C-C-C)-C(=C)-[O;H0;D2;+0:4]-[CH2;D2;+0:5]-[C;D1;H3:6]\n",
      "第 4 条规则下可能生成的结果：\n",
      " ['C=C(OCC)[Sn](CCCC)(CCCC)CCCC.CC(C)(C)OC(=O)n1ccc2cc(Br)ccc21'] \n",
      "\n",
      "第 5 条规则:\n",
      " ([C;D1;H3:5]-[C:4](-[C;D1;H3:6])(-[C;D1;H3:7])-[#8:3]-[C;H0;D3;+0:2](=[O;H0;D1;+0:1])-[n;H0;D3;+0:9](:[c:8]):[c:10])>>C-C(-C)(-C)-O-C(=O)-[O;H0;D2;+0:1]-[C;H0;D3;+0:2](=O)-[#8:3]-[C:4](-[C;D1;H3:5])(-[C;D1;H3:6])-[C;D1;H3:7].[c:8]:[nH;D2;+0:9]:[c:10]\n",
      "第 5 条规则下可能生成的结果：\n",
      " ['CC(=O)c1ccc2[nH]ccc2c1.CC(C)(C)OC(=O)OC(=O)OC(C)(C)C'] \n",
      "\n",
      "第 6 条规则:\n",
      " ([C;D1;H3:1]-[C;H0;D3;+0:2](=[O;H0;D1;+0:4])-[c:3])>>[C;D1;H3:1]-[C;H0;D4;+0:2]1(-[c:3])-O-C-C-[O;H0;D2;+0:4]-1\n",
      "第 6 条规则下可能生成的结果：\n",
      " ['CC(C)(C)OC(=O)n1ccc2cc(C3(C)OCCO3)ccc21'] \n",
      "\n",
      "第 7 条规则:\n",
      " ([C;D1;H3:5]-[C:4](-[C;D1;H3:6])(-[C;D1;H3:7])-[#8:3]-[C;H0;D3;+0:2](=[O;H0;D1;+0:1])-[n;H0;D3;+0:9](:[c:8]):[c:10])>>C-C(-C)(-C)-[O;H0;D2;+0:1]-[C;H0;D3;+0:2](=O)-[#8:3]-[C:4](-[C;D1;H3:5])(-[C;D1;H3:6])-[C;D1;H3:7].[c:8]:[nH;D2;+0:9]:[c:10]\n",
      "第 7 条规则下可能生成的结果：\n",
      " ['CC(=O)c1ccc2[nH]ccc2c1.CC(C)(C)OC(=O)OC(C)(C)C'] \n",
      "\n",
      "第 8 条规则:\n",
      " ([C;D1;H3:2]-[C;H0;D3;+0:1](=[O;D1;H0:3])-[c;H0;D3;+0:5](:[c:4]):[c:6])>>C-C(=O)-O-[C;H0;D3;+0:1](-[C;D1;H3:2])=[O;D1;H0:3].[c:4]:[cH;D2;+0:5]:[c:6]\n",
      "第 8 条规则下可能生成的结果：\n",
      " ['CC(=O)OC(C)=O.CC(C)(C)OC(=O)n1ccc2ccccc21'] \n",
      "\n",
      "第 9 条规则:\n",
      " ([C;D1;H3:5]-[C;H0;D3;+0:4](=[O;D1;H0:6])-[c;H0;D3;+0:1](:[c:2]):[c:3])>>Br-[c;H0;D3;+0:1](:[c:2]):[c:3].C-O-N(-C)-[C;H0;D3;+0:4](-[C;D1;H3:5])=[O;D1;H0:6]\n",
      "第 9 条规则下可能生成的结果：\n",
      " ['CC(C)(C)OC(=O)n1ccc2cc(Br)ccc21.CON(C)C(C)=O'] \n",
      "\n",
      "第 10 条规则:\n",
      " ([CH3;D1;+0:4]-[C;H0;D3;+0:1](=[O;D1;H0:2])-[c:3])>>C-O-N(-C)-[C;H0;D3;+0:1](=[O;D1;H0:2])-[c:3].Cl-[Mg]-[CH3;D1;+0:4]\n",
      "第 10 条规则下可能生成的结果：\n",
      " ['CON(C)C(=O)c1ccc2c(ccn2C(=O)OC(C)(C)C)c1.C[Mg]Cl'] \n",
      "\n",
      "['CC(=O)c1ccc2[nH]ccc2c1.CC(C)(C)OC(=O)OC(=O)OC(C)(C)C', 'CON(C)C(=O)c1ccc2c(ccn2C(=O)OC(C)(C)C)c1.C[Mg]Br', 'CC(O)c1ccc2c(ccn2C(=O)OC(C)(C)C)c1', 'C=C(OCC)[Sn](CCCC)(CCCC)CCCC.CC(C)(C)OC(=O)n1ccc2cc(Br)ccc21', 'CC(=O)c1ccc2[nH]ccc2c1.CC(C)(C)OC(=O)OC(=O)OC(C)(C)C', 'CC(C)(C)OC(=O)n1ccc2cc(C3(C)OCCO3)ccc21', 'CC(=O)c1ccc2[nH]ccc2c1.CC(C)(C)OC(=O)OC(C)(C)C', 'CC(=O)OC(C)=O.CC(C)(C)OC(=O)n1ccc2ccccc21', 'CC(C)(C)OC(=O)n1ccc2cc(Br)ccc21.CON(C)C(C)=O', 'CON(C)C(=O)c1ccc2c(ccn2C(=O)OC(C)(C)C)c1.C[Mg]Cl']\n",
      "[0.9930921792984009, 0.0011609819484874606, 0.0008716508164070547, 0.000732330372557044, 0.0006634477758780122, 0.000496192486025393, 0.00043581356294453144, 0.00033747407724149525, 0.00019058940233662724, 0.00018568040104582906]\n",
      "['([C;D1;H3:1]-[C:2](-[C;D1;H3:3])(-[C;D1;H3:4])-[#8:5]-[C;H0;D3;+0:6](=[O;D1;H0:7])-[n;H0;D3;+0:9](:[c:8]):[c:10])>>[C;D1;H3:1]-[C:2](-[C;D1;H3:3])(-[C;D1;H3:4])-[#8:5]-[C;H0;D3;+0:6](=[O;D1;H0:7])-O-[C;H0;D3;+0:6](=[O;D1;H0:7])-[#8:5]-[C:2](-[C;D1;H3:1])(-[C;D1;H3:3])-[C;D1;H3:4].[c:8]:[nH;D2;+0:9]:[c:10]', '([CH3;D1;+0:1]-[C;H0;D3;+0:2](=[O;D1;H0:3])-[c:4])>>Br-[Mg]-[CH3;D1;+0:1].C-O-N(-C)-[C;H0;D3;+0:2](=[O;D1;H0:3])-[c:4]', '([C;D1;H3:1]-[C;H0;D3;+0:2](=[O;H0;D1;+0:3])-[c:4])>>[C;D1;H3:1]-[CH;D3;+0:2](-[OH;D1;+0:3])-[c:4]', '([C;D1;H3:6]-[C;H0;D3;+0:5](=[O;H0;D1;+0:4])-[c;H0;D3;+0:1](:[c:2]):[c:3])>>Br-[c;H0;D3;+0:1](:[c:2]):[c:3].C-C-C-C-[Sn](-C-C-C-C)(-C-C-C-C)-C(=C)-[O;H0;D2;+0:4]-[CH2;D2;+0:5]-[C;D1;H3:6]', '([C;D1;H3:5]-[C:4](-[C;D1;H3:6])(-[C;D1;H3:7])-[#8:3]-[C;H0;D3;+0:2](=[O;H0;D1;+0:1])-[n;H0;D3;+0:9](:[c:8]):[c:10])>>C-C(-C)(-C)-O-C(=O)-[O;H0;D2;+0:1]-[C;H0;D3;+0:2](=O)-[#8:3]-[C:4](-[C;D1;H3:5])(-[C;D1;H3:6])-[C;D1;H3:7].[c:8]:[nH;D2;+0:9]:[c:10]', '([C;D1;H3:1]-[C;H0;D3;+0:2](=[O;H0;D1;+0:4])-[c:3])>>[C;D1;H3:1]-[C;H0;D4;+0:2]1(-[c:3])-O-C-C-[O;H0;D2;+0:4]-1', '([C;D1;H3:5]-[C:4](-[C;D1;H3:6])(-[C;D1;H3:7])-[#8:3]-[C;H0;D3;+0:2](=[O;H0;D1;+0:1])-[n;H0;D3;+0:9](:[c:8]):[c:10])>>C-C(-C)(-C)-[O;H0;D2;+0:1]-[C;H0;D3;+0:2](=O)-[#8:3]-[C:4](-[C;D1;H3:5])(-[C;D1;H3:6])-[C;D1;H3:7].[c:8]:[nH;D2;+0:9]:[c:10]', '([C;D1;H3:2]-[C;H0;D3;+0:1](=[O;D1;H0:3])-[c;H0;D3;+0:5](:[c:4]):[c:6])>>C-C(=O)-O-[C;H0;D3;+0:1](-[C;D1;H3:2])=[O;D1;H0:3].[c:4]:[cH;D2;+0:5]:[c:6]', '([C;D1;H3:5]-[C;H0;D3;+0:4](=[O;D1;H0:6])-[c;H0;D3;+0:1](:[c:2]):[c:3])>>Br-[c;H0;D3;+0:1](:[c:2]):[c:3].C-O-N(-C)-[C;H0;D3;+0:4](-[C;D1;H3:5])=[O;D1;H0:6]', '([CH3;D1;+0:4]-[C;H0;D3;+0:1](=[O;D1;H0:2])-[c:3])>>C-O-N(-C)-[C;H0;D3;+0:1](=[O;D1;H0:2])-[c:3].Cl-[Mg]-[CH3;D1;+0:4]']\n"
     ]
    }
   ],
   "source": [
    "from rdchiral.main import rdchiralRunText, rdchiralRun\n",
    "reactants = []\n",
    "scores = []\n",
    "templates = []\n",
    "for i , rule in enumerate(rule_k):\n",
    "    out1 = []\n",
    "    try:\n",
    "        out1 = rdchiralRunText(rule, x) #返回根据规则最有可能分解成的分子结果\n",
    "        print('第',i+1,'条规则:\\n',rule)\n",
    "        print('第',i+1,'条规则下可能生成的结果：\\n',out1,'\\n')\n",
    "        # out1 = rdchiralRunText(rule, Chem.MolToSmiles(Chem.MolFromSmarts(x)))\n",
    "        if len(out1) == 0: continue     #没有结果，则跳出本次循环\n",
    "        # if len(out1) > 1: print(\"more than two reactants.\"),print(out1)\n",
    "        out1 = sorted(out1)\n",
    "        for reactant in out1:\n",
    "            reactants.append(reactant)\n",
    "            scores.append(probs[0][i].item()/len(out1))\n",
    "            templates.append(rule)\n",
    "    # out1 = rdchiralRunText(x, rule)\n",
    "    except ValueError:\n",
    "        pass\n",
    "print(reactants)\n",
    "print(scores)\n",
    "print(templates)"
   ]
  },
  {
   "cell_type": "code",
   "execution_count": 9,
   "metadata": {},
   "outputs": [
    {
     "name": "stdout",
     "output_type": "stream",
     "text": [
      "['[CH3:1][C:2]([CH3:3])([CH3:4])[O:5][C:6](=[O:7])[n:15]1[c:14]2[cH:13][cH:12][c:11]([C:9]([CH3:8])=[O:10])[cH:19][c:18]2[cH:17][cH:16]1', 'CC(O)c1ccc2c(ccn2C(=O)OC(C)(C)C)c1', 'C=C(OCC)[Sn](CCCC)(CCCC)CCCC.CC(C)(C)OC(=O)n1ccc2cc(Br)ccc21']\n"
     ]
    }
   ],
   "source": [
    "result=[]\n",
    "result.append(x)\n",
    "result.append(reactants[2])\n",
    "result.append(reactants[3])\n",
    "print(result)"
   ]
  },
  {
   "cell_type": "code",
   "execution_count": 10,
   "metadata": {},
   "outputs": [
    {
     "name": "stdout",
     "output_type": "stream",
     "text": [
      "defaultdict(<class 'list'>, {'CC(=O)c1ccc2[nH]ccc2c1.CC(C)(C)OC(=O)OC(=O)OC(C)(C)C': [(0.9930921792984009, '([C;D1;H3:1]-[C:2](-[C;D1;H3:3])(-[C;D1;H3:4])-[#8:5]-[C;H0;D3;+0:6](=[O;D1;H0:7])-[n;H0;D3;+0:9](:[c:8]):[c:10])>>[C;D1;H3:1]-[C:2](-[C;D1;H3:3])(-[C;D1;H3:4])-[#8:5]-[C;H0;D3;+0:6](=[O;D1;H0:7])-O-[C;H0;D3;+0:6](=[O;D1;H0:7])-[#8:5]-[C:2](-[C;D1;H3:1])(-[C;D1;H3:3])-[C;D1;H3:4].[c:8]:[nH;D2;+0:9]:[c:10]'), (0.0006634477758780122, '([C;D1;H3:5]-[C:4](-[C;D1;H3:6])(-[C;D1;H3:7])-[#8:3]-[C;H0;D3;+0:2](=[O;H0;D1;+0:1])-[n;H0;D3;+0:9](:[c:8]):[c:10])>>C-C(-C)(-C)-O-C(=O)-[O;H0;D2;+0:1]-[C;H0;D3;+0:2](=O)-[#8:3]-[C:4](-[C;D1;H3:5])(-[C;D1;H3:6])-[C;D1;H3:7].[c:8]:[nH;D2;+0:9]:[c:10]')], 'CON(C)C(=O)c1ccc2c(ccn2C(=O)OC(C)(C)C)c1.C[Mg]Br': [(0.0011609819484874606, '([CH3;D1;+0:1]-[C;H0;D3;+0:2](=[O;D1;H0:3])-[c:4])>>Br-[Mg]-[CH3;D1;+0:1].C-O-N(-C)-[C;H0;D3;+0:2](=[O;D1;H0:3])-[c:4]')], 'CC(O)c1ccc2c(ccn2C(=O)OC(C)(C)C)c1': [(0.0008716508164070547, '([C;D1;H3:1]-[C;H0;D3;+0:2](=[O;H0;D1;+0:3])-[c:4])>>[C;D1;H3:1]-[CH;D3;+0:2](-[OH;D1;+0:3])-[c:4]')], 'C=C(OCC)[Sn](CCCC)(CCCC)CCCC.CC(C)(C)OC(=O)n1ccc2cc(Br)ccc21': [(0.000732330372557044, '([C;D1;H3:6]-[C;H0;D3;+0:5](=[O;H0;D1;+0:4])-[c;H0;D3;+0:1](:[c:2]):[c:3])>>Br-[c;H0;D3;+0:1](:[c:2]):[c:3].C-C-C-C-[Sn](-C-C-C-C)(-C-C-C-C)-C(=C)-[O;H0;D2;+0:4]-[CH2;D2;+0:5]-[C;D1;H3:6]')], 'CC(C)(C)OC(=O)n1ccc2cc(C3(C)OCCO3)ccc21': [(0.000496192486025393, '([C;D1;H3:1]-[C;H0;D3;+0:2](=[O;H0;D1;+0:4])-[c:3])>>[C;D1;H3:1]-[C;H0;D4;+0:2]1(-[c:3])-O-C-C-[O;H0;D2;+0:4]-1')], 'CC(=O)c1ccc2[nH]ccc2c1.CC(C)(C)OC(=O)OC(C)(C)C': [(0.00043581356294453144, '([C;D1;H3:5]-[C:4](-[C;D1;H3:6])(-[C;D1;H3:7])-[#8:3]-[C;H0;D3;+0:2](=[O;H0;D1;+0:1])-[n;H0;D3;+0:9](:[c:8]):[c:10])>>C-C(-C)(-C)-[O;H0;D2;+0:1]-[C;H0;D3;+0:2](=O)-[#8:3]-[C:4](-[C;D1;H3:5])(-[C;D1;H3:6])-[C;D1;H3:7].[c:8]:[nH;D2;+0:9]:[c:10]')], 'CC(=O)OC(C)=O.CC(C)(C)OC(=O)n1ccc2ccccc21': [(0.00033747407724149525, '([C;D1;H3:2]-[C;H0;D3;+0:1](=[O;D1;H0:3])-[c;H0;D3;+0:5](:[c:4]):[c:6])>>C-C(=O)-O-[C;H0;D3;+0:1](-[C;D1;H3:2])=[O;D1;H0:3].[c:4]:[cH;D2;+0:5]:[c:6]')], 'CC(C)(C)OC(=O)n1ccc2cc(Br)ccc21.CON(C)C(C)=O': [(0.00019058940233662724, '([C;D1;H3:5]-[C;H0;D3;+0:4](=[O;D1;H0:6])-[c;H0;D3;+0:1](:[c:2]):[c:3])>>Br-[c;H0;D3;+0:1](:[c:2]):[c:3].C-O-N(-C)-[C;H0;D3;+0:4](-[C;D1;H3:5])=[O;D1;H0:6]')], 'CON(C)C(=O)c1ccc2c(ccn2C(=O)OC(C)(C)C)c1.C[Mg]Cl': [(0.00018568040104582906, '([CH3;D1;+0:4]-[C;H0;D3;+0:1](=[O;D1;H0:2])-[c:3])>>C-O-N(-C)-[C;H0;D3;+0:1](=[O;D1;H0:2])-[c:3].Cl-[Mg]-[CH3;D1;+0:4]')]})\n"
     ]
    }
   ],
   "source": [
    "from collections import defaultdict, OrderedDict\n",
    "reactants_d = defaultdict(list)     #构建一个默认value为list的字典\n",
    "for r, s, t in zip(reactants, scores, templates):   #将结果打包成字典\n",
    "    if '.' in r:\n",
    "        str_list = sorted(r.strip().split('.'))\n",
    "        reactants_d['.'.join(str_list)].append((s, t))\n",
    "    else:\n",
    "        reactants_d[r].append((s, t))\n",
    "print(reactants_d)"
   ]
  },
  {
   "cell_type": "code",
   "execution_count": 11,
   "metadata": {},
   "outputs": [
    {
     "name": "stdout",
     "output_type": "stream",
     "text": [
      "['CC(=O)c1ccc2[nH]ccc2c1.CC(C)(C)OC(=O)OC(=O)OC(C)(C)C', 'CON(C)C(=O)c1ccc2c(ccn2C(=O)OC(C)(C)C)c1.C[Mg]Br', 'CC(O)c1ccc2c(ccn2C(=O)OC(C)(C)C)c1', 'C=C(OCC)[Sn](CCCC)(CCCC)CCCC.CC(C)(C)OC(=O)n1ccc2cc(Br)ccc21', 'CC(C)(C)OC(=O)n1ccc2cc(C3(C)OCCO3)ccc21', 'CC(=O)c1ccc2[nH]ccc2c1.CC(C)(C)OC(=O)OC(C)(C)C', 'CC(=O)OC(C)=O.CC(C)(C)OC(=O)n1ccc2ccccc21', 'CC(C)(C)OC(=O)n1ccc2cc(Br)ccc21.CON(C)C(C)=O', 'CON(C)C(=O)c1ccc2c(ccn2C(=O)OC(C)(C)C)c1.C[Mg]Cl']\n",
      "[0.995581184328034, 0.0011631147052334825, 0.0008732520636626986, 0.0007336756842084635, 0.0004971040056862067, 0.00043661416481227694, 0.00033809402668668866, 0.00019093952047074923, 0.00018602150120544005]\n",
      "['([C;D1;H3:1]-[C:2](-[C;D1;H3:3])(-[C;D1;H3:4])-[#8:5]-[C;H0;D3;+0:6](=[O;D1;H0:7])-[n;H0;D3;+0:9](:[c:8]):[c:10])>>[C;D1;H3:1]-[C:2](-[C;D1;H3:3])(-[C;D1;H3:4])-[#8:5]-[C;H0;D3;+0:6](=[O;D1;H0:7])-O-[C;H0;D3;+0:6](=[O;D1;H0:7])-[#8:5]-[C:2](-[C;D1;H3:1])(-[C;D1;H3:3])-[C;D1;H3:4].[c:8]:[nH;D2;+0:9]:[c:10]', '([CH3;D1;+0:1]-[C;H0;D3;+0:2](=[O;D1;H0:3])-[c:4])>>Br-[Mg]-[CH3;D1;+0:1].C-O-N(-C)-[C;H0;D3;+0:2](=[O;D1;H0:3])-[c:4]', '([C;D1;H3:1]-[C;H0;D3;+0:2](=[O;H0;D1;+0:3])-[c:4])>>[C;D1;H3:1]-[CH;D3;+0:2](-[OH;D1;+0:3])-[c:4]', '([C;D1;H3:6]-[C;H0;D3;+0:5](=[O;H0;D1;+0:4])-[c;H0;D3;+0:1](:[c:2]):[c:3])>>Br-[c;H0;D3;+0:1](:[c:2]):[c:3].C-C-C-C-[Sn](-C-C-C-C)(-C-C-C-C)-C(=C)-[O;H0;D2;+0:4]-[CH2;D2;+0:5]-[C;D1;H3:6]', '([C;D1;H3:1]-[C;H0;D3;+0:2](=[O;H0;D1;+0:4])-[c:3])>>[C;D1;H3:1]-[C;H0;D4;+0:2]1(-[c:3])-O-C-C-[O;H0;D2;+0:4]-1', '([C;D1;H3:5]-[C:4](-[C;D1;H3:6])(-[C;D1;H3:7])-[#8:3]-[C;H0;D3;+0:2](=[O;H0;D1;+0:1])-[n;H0;D3;+0:9](:[c:8]):[c:10])>>C-C(-C)(-C)-[O;H0;D2;+0:1]-[C;H0;D3;+0:2](=O)-[#8:3]-[C:4](-[C;D1;H3:5])(-[C;D1;H3:6])-[C;D1;H3:7].[c:8]:[nH;D2;+0:9]:[c:10]', '([C;D1;H3:2]-[C;H0;D3;+0:1](=[O;D1;H0:3])-[c;H0;D3;+0:5](:[c:4]):[c:6])>>C-C(=O)-O-[C;H0;D3;+0:1](-[C;D1;H3:2])=[O;D1;H0:3].[c:4]:[cH;D2;+0:5]:[c:6]', '([C;D1;H3:5]-[C;H0;D3;+0:4](=[O;D1;H0:6])-[c;H0;D3;+0:1](:[c:2]):[c:3])>>Br-[c;H0;D3;+0:1](:[c:2]):[c:3].C-O-N(-C)-[C;H0;D3;+0:4](-[C;D1;H3:5])=[O;D1;H0:6]', '([CH3;D1;+0:4]-[C;H0;D3;+0:1](=[O;D1;H0:2])-[c:3])>>C-O-N(-C)-[C;H0;D3;+0:1](=[O;D1;H0:2])-[c:3].Cl-[Mg]-[CH3;D1;+0:4]']\n"
     ]
    }
   ],
   "source": [
    "def merge(reactant_d):\n",
    "    ret = []\n",
    "    for reactant, l in reactant_d.items():\n",
    "        ss, ts = zip(*l)\n",
    "        ret.append((reactant, sum(ss), list(ts)[0]))\n",
    "    reactants, scores, templates = zip(*sorted(ret,key=lambda item : item[1], reverse=True))\n",
    "    return list(reactants), list(scores), list(templates)\n",
    "\n",
    "reactants, scores, templates = merge(reactants_d)\n",
    "total = sum(scores)\n",
    "scores = [s / total for s in scores]    #scores的归一化\n",
    "print(reactants)\n",
    "print(scores)\n",
    "print(templates)\n"
   ]
  },
  {
   "cell_type": "code",
   "execution_count": 12,
   "metadata": {},
   "outputs": [
    {
     "name": "stdout",
     "output_type": "stream",
     "text": [
      "dict_keys(['reactants', 'scores', 'template'])\n"
     ]
    }
   ],
   "source": [
    "result={'reactants':reactants,\n",
    "        'scores' : scores,\n",
    "        'template' : templates}\n",
    "print(result.keys())"
   ]
  },
  {
   "cell_type": "markdown",
   "metadata": {},
   "source": [
    "# Value网络测试"
   ]
  },
  {
   "cell_type": "code",
   "execution_count": 14,
   "metadata": {},
   "outputs": [],
   "source": [
    "import torch\n",
    "import torch.nn as nn\n",
    "import torch.nn.functional as F\n",
    "import logging\n",
    "\n",
    "\n",
    "class ValueMLP(nn.Module):\n",
    "    def __init__(self, n_layers, fp_dim, latent_dim, dropout_rate, device):\n",
    "        super(ValueMLP, self).__init__()\n",
    "        self.n_layers = n_layers            #1     隐藏层数量，如果是2，就是两个128个神经元的隐藏层\n",
    "        self.fp_dim = fp_dim                #2048\n",
    "        self.latent_dim = latent_dim        #128\n",
    "        self.dropout_rate = dropout_rate    #0.1\n",
    "        self.device = device\n",
    "\n",
    "        logging.info('Initializing value model: latent_dim=%d' % self.latent_dim)\n",
    "\n",
    "        layers = []\n",
    "        layers.append(nn.Linear(fp_dim, latent_dim))\n",
    "        # layers.append(nn.BatchNorm1d(latent_dim,\n",
    "        #                              track_running_stats=False))\n",
    "        layers.append(nn.ReLU())\n",
    "        layers.append(nn.Dropout(self.dropout_rate))\n",
    "        for _ in range(self.n_layers - 1):\n",
    "            layers.append(nn.Linear(latent_dim, latent_dim))\n",
    "            # layers.append(nn.BatchNorm1d(latent_dim,\n",
    "            #                              track_running_stats=False))\n",
    "            layers.append(nn.ReLU())\n",
    "            layers.append(nn.Dropout(self.dropout_rate))\n",
    "        layers.append(nn.Linear(latent_dim, 1))\n",
    "\n",
    "        self.layers = nn.Sequential(*layers)\n",
    "\n",
    "    def forward(self, fps):\n",
    "        x = fps\n",
    "        x = self.layers(x)\n",
    "        x = torch.log(1 + torch.exp(x))\n",
    "\n",
    "        return x\n"
   ]
  },
  {
   "cell_type": "code",
   "execution_count": 15,
   "metadata": {},
   "outputs": [
    {
     "name": "stdout",
     "output_type": "stream",
     "text": [
      "0.8375192880630493\n"
     ]
    },
    {
     "name": "stderr",
     "output_type": "stream",
     "text": [
      "/home/Flow/.conda/envs/retro_star_env/lib/python3.7/site-packages/ipykernel_launcher.py:19: DeprecationWarning: `np.bool` is a deprecated alias for the builtin `bool`. To silence this warning, use `bool` by itself. Doing this will not modify any behavior and is safe. If you specifically wanted the numpy scalar type, use `np.bool_` here.\n",
      "Deprecated in NumPy 1.20; for more details and guidance: https://numpy.org/devdocs/release/1.20.0-notes.html#deprecations\n"
     ]
    }
   ],
   "source": [
    "gpu=-1\n",
    "device = torch.device('cuda:%d' % gpu if gpu >= 0 else 'cpu')\n",
    "model = ValueMLP(\n",
    "                n_layers=1,\n",
    "                fp_dim=fp_dim,\n",
    "                latent_dim=128,\n",
    "                dropout_rate=0.1,\n",
    "                device=device\n",
    "            ).to(device)\n",
    "save_folder=dirpath+'/saved_models'\n",
    "value_model='best_epoch_final_4.pt'\n",
    "model_f = '%s/%s' % (save_folder, value_model)  #value_model：best_epoch_final_4.pt\n",
    "model.load_state_dict(torch.load(model_f, map_location=device))\n",
    "model.eval()\n",
    "def smiles_to_fp(s, fp_dim=2048, pack=False):\n",
    "    mol = Chem.MolFromSmiles(s)     #从smiles编码中获取结构信息\n",
    "    fp = AllChem.GetMorganFingerprintAsBitVect(mol, 2, nBits=fp_dim)    #使用Morgan指纹来获取默认长度，并将其缩短为长度为2048的位数组时的长度\n",
    "    onbits = list(fp.GetOnBits())\n",
    "    arr = np.zeros(fp.GetNumBits(), dtype=np.bool)\n",
    "    arr[onbits] = 1\n",
    "\n",
    "    if pack:\n",
    "        arr = np.packbits(arr)\n",
    "\n",
    "    return arr\n",
    "def value_fn(mol):\n",
    "    fp = smiles_to_fp(mol, fp_dim=fp_dim).reshape(1, -1)\n",
    "    fp = torch.FloatTensor(fp).to(device)\n",
    "    v = model(fp).item()\n",
    "    return v\n",
    "#x='OCC(=O)OCCCO'\n",
    "#x='[CH3:5][C:6]1[CH2:28][S:27][C@@H:9]2[C@H:10]([NH2:13])[C:11](=[O:12])[N:8]2[C:7]=1[C:29]([OH:31])=[O:30]'\n",
    "x='O=C1C=CC2=C(CC[C@H](CC)[C@@H]2O)O1'\n",
    "init_value = value_fn(x)\n",
    "print(init_value)"
   ]
  },
  {
   "cell_type": "code",
   "execution_count": 16,
   "metadata": {},
   "outputs": [
    {
     "ename": "SyntaxError",
     "evalue": "invalid syntax (_tools.py, line 23)",
     "output_type": "error",
     "traceback": [
      "Traceback \u001b[0;36m(most recent call last)\u001b[0m:\n",
      "  File \u001b[1;32m\"/home/Flow/.conda/envs/retro_star_env/lib/python3.7/site-packages/IPython/core/interactiveshell.py\"\u001b[0m, line \u001b[1;32m3552\u001b[0m, in \u001b[1;35mrun_code\u001b[0m\n    exec(code_obj, self.user_global_ns, self.user_ns)\n",
      "  File \u001b[1;32m\"/tmp/ipykernel_13796/3561148060.py\"\u001b[0m, line \u001b[1;32m2\u001b[0m, in \u001b[1;35m<module>\u001b[0m\n    from graphviz import Digraph\n",
      "  File \u001b[1;32m\"/home/Flow/.conda/envs/retro_star_env/lib/python3.7/site-packages/graphviz/__init__.py\"\u001b[0m, line \u001b[1;32m31\u001b[0m, in \u001b[1;35m<module>\u001b[0m\n    from .backend import (DOT_BINARY, UNFLATTEN_BINARY,\n",
      "  File \u001b[1;32m\"/home/Flow/.conda/envs/retro_star_env/lib/python3.7/site-packages/graphviz/backend/__init__.py\"\u001b[0m, line \u001b[1;32m5\u001b[0m, in \u001b[1;35m<module>\u001b[0m\n    from .mixins import Render, Pipe, Unflatten, View\n",
      "  File \u001b[1;32m\"/home/Flow/.conda/envs/retro_star_env/lib/python3.7/site-packages/graphviz/backend/mixins.py\"\u001b[0m, line \u001b[1;32m8\u001b[0m, in \u001b[1;35m<module>\u001b[0m\n    from . import piping\n",
      "\u001b[0;36m  File \u001b[0;32m\"/home/Flow/.conda/envs/retro_star_env/lib/python3.7/site-packages/graphviz/backend/piping.py\"\u001b[0;36m, line \u001b[0;32m5\u001b[0;36m, in \u001b[0;35m<module>\u001b[0;36m\u001b[0m\n\u001b[0;31m    from .. import _tools\u001b[0m\n",
      "\u001b[0;36m  File \u001b[0;32m\"/home/Flow/.conda/envs/retro_star_env/lib/python3.7/site-packages/graphviz/_tools.py\"\u001b[0;36m, line \u001b[0;32m23\u001b[0m\n\u001b[0;31m    def attach(object: typing.Any, /, name: str) -> typing.Callable:\u001b[0m\n\u001b[0m                                   ^\u001b[0m\n\u001b[0;31mSyntaxError\u001b[0m\u001b[0;31m:\u001b[0m invalid syntax\n"
     ]
    }
   ],
   "source": [
    "import rdkit.Chem as Chem\n",
    "from graphviz import Digraph\n",
    "m1=Chem.MolFromSmiles('O=C1C=CC2=C(CC[C@H](CC)[C@@H]2O)O1')\n",
    "m2=Chem.MolFromSmiles('OCC(=O)OCCCO')\n",
    "img1=Chem.Draw.MolToImage(m1)\n",
    "img2=Chem.Draw.MolToImage(m2)\n",
    "G = Digraph('G')                #创建图G\n",
    "G.attr('node', shape='box')     #节点node属性，方形\n",
    "G.format = 'png'                #导出文件为png格式\n",
    "#G.edge('O=C1C=CC2=C(CC[C@H](CC)[C@@H]2O)O1', 'OCC(=O)OCCCO', label='cost')\n",
    "G.edge(img1,img2)\n",
    "G.render()\n",
    "G"
   ]
  },
  {
   "cell_type": "code",
   "execution_count": 26,
   "metadata": {},
   "outputs": [
    {
     "data": {
      "image/png": "[encoded data removed]",
      "text/plain": [
       "<IPython.core.display.Image object>"
      ]
     },
     "execution_count": 26,
     "metadata": {},
     "output_type": "execute_result"
    }
   ],
   "source": [
    "from rdkit import Chem\n",
    "from rdkit.Chem import AllChem\n",
    "from rdkit.Chem import Draw\n",
    "m1 = Chem.MolFromSmiles('O=C1C=CC2=C(CC[C@H](CC)[C@@H]2O)O1')\n",
    "m2=Chem.MolFromSmiles('OCC(=O)OCCCO')\n",
    "mols=[m1,m2]\n",
    "Draw.MolsToGridImage(mols,molsPerRow=4,subImgSize=(200,200),legends=['' for x in mols])\n",
    "img=Draw.MolsToGridImage(mols,subImgSize=(200,200),legends=['' for x in mols])\n",
    "img.save('best_route.png')"
   ]
  },
  {
   "cell_type": "code",
   "execution_count": null,
   "metadata": {},
   "outputs": [],
   "source": [
    "#一步反应，MLP找模板的算法是否靠谱\n"
   ]
  }
 ],
 "metadata": {
  "kernelspec": {
   "display_name": "retro_star_env",
   "language": "python",
   "name": "python3"
  },
  "language_info": {
   "codemirror_mode": {
    "name": "ipython",
    "version": 3
   },
   "file_extension": ".py",
   "mimetype": "text/x-python",
   "name": "python",
   "nbconvert_exporter": "python",
   "pygments_lexer": "ipython3",
   "version": "3.7.12"
  }
 },
 "nbformat": 4,
 "nbformat_minor": 2
}
